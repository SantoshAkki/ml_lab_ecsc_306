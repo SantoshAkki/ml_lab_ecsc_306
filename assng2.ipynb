{
 "cells": [
  {
   "cell_type": "code",
   "execution_count": 8,
   "metadata": {
    "collapsed": true
   },
   "outputs": [],
   "source": [
    "import tensorflow as tf\n",
    "import numpy as np\n",
    "rng = np.random\n",
    "\n",
    "import matplotlib.pyplot as plt\n",
    "learning_rate = 0.0001\n",
    "training_epochs = 1000\n",
    "display_step = 50"
   ]
  },
  {
   "cell_type": "code",
   "execution_count": 9,
   "metadata": {},
   "outputs": [
    {
     "name": "stdout",
     "output_type": "stream",
     "text": [
      "-0.2949\n"
     ]
    }
   ],
   "source": [
    "with tf.name_scope(\"Creation_of_array\"):\n",
    "    x_array=np.asarray([2.0,9.4,3.32,0.88,-2.23,1.11,0.57,-2.25,-3.31,6.45])\n",
    "    y_array=np.asarray([1.22,0.34,-0.08,2.25,4.41,3.09,-6.66,-9.77,0.001,2.25])\n",
    "    x = tf.constant(x_array,dtype = tf.float32,name = \"x_array\")\n",
    "    y = tf.constant(y_array,dtype = tf.float32, name= \"y_array\")\n",
    "with tf.name_scope(\"Calculating_y_mean\"):\n",
    "    mean_y = tf.reduce_mean(y, name = \"mean_y\")\n",
    "    with tf.Session() as sess:\n",
    "        result_y = sess.run(mean_y)\n",
    "        print(result_y)\n",
    "        "
   ]
  },
  {
   "cell_type": "code",
   "execution_count": 10,
   "metadata": {},
   "outputs": [
    {
     "name": "stdout",
     "output_type": "stream",
     "text": [
      "1.594\n",
      "14.2899\n"
     ]
    }
   ],
   "source": [
    "with tf.name_scope(\"Calculating_x_mean_and_x_variance\"):\n",
    "    mean_x, variance = tf.nn.moments(x, [0], name = \"mean_x_and_variance_x\")\n",
    "    with tf.Session() as sess:\n",
    "        m, v = sess.run([mean_x, variance])\n",
    "        print(m)\n",
    "        print(v)\n"
   ]
  },
  {
   "cell_type": "code",
   "execution_count": 4,
   "metadata": {},
   "outputs": [
    {
     "name": "stdout",
     "output_type": "stream",
     "text": [
      "3.83422\n"
     ]
    }
   ],
   "source": [
    "with tf.name_scope(\"Calculating_covariance\"):\n",
    "    def tensorflow_covariance(x_array,y_array,x_mean,y_mean):\n",
    "        cov = 0.0\n",
    "        for i in range(0,10):\n",
    "            x_val = tf.subtract(x_array[i],x_mean, name=\"Finding_difference_of_xval_and_mean\")\n",
    "            y_val = tf.subtract(y_array[i],y_mean, name=\"Finding_difference_of_yval_and_mean\")\n",
    "            total_val = tf.multiply(x_val,y_val, name=\"Multiplying_found_values\")\n",
    "            cov = tf.add(cov,total_val, name=\"Recursive_addition\")\n",
    "        return cov/10.0\n",
    "    with tf.Session() as sess:\n",
    "        covar = sess.run(tensorflow_covariance(x,y,m,result_y))\n",
    "        print(covar)"
   ]
  },
  {
   "cell_type": "code",
   "execution_count": 5,
   "metadata": {},
   "outputs": [
    {
     "name": "stdout",
     "output_type": "stream",
     "text": [
      "0.268316\n",
      "-0.722596\n"
     ]
    }
   ],
   "source": [
    "with tf.name_scope(\"Calculating_slope_m_and_c\"):\n",
    "    slope = tf.div(covar,v,name=\"Finding_slope\")\n",
    "    intm = tf.multiply(slope,m,name = \"Intermediate_step\")\n",
    "    c_intm = tf.subtract(result_y,intm,name = \"Finding_c\")\n",
    "\n",
    "    with tf.Session() as sess:\n",
    "        m_slope = sess.run(slope)\n",
    "        c = sess.run(c_intm)\n",
    "        print(m_slope)\n",
    "        print(c)\n"
   ]
  },
  {
   "cell_type": "code",
   "execution_count": 11,
   "metadata": {
    "collapsed": true
   },
   "outputs": [],
   "source": [
    "with tf.name_scope(\"Plotting\"):\n",
    "    n_samples = x_array.shape[0]\n",
    "    X = tf.placeholder(\"float\")\n",
    "    Y = tf.placeholder(\"float\")\n",
    "\n",
    "    # Set model weights\n",
    "    W = tf.Variable(rng.randn(), name=\"weight\")\n",
    "    b = tf"
   ]
  },
  {
   "cell_type": "code",
   "execution_count": null,
   "metadata": {
    "collapsed": true
   },
   "outputs": [],
   "source": []
  }
 ],
 "metadata": {
  "kernelspec": {
   "display_name": "Python 3",
   "language": "python",
   "name": "python3"
  },
  "language_info": {
   "codemirror_mode": {
    "name": "ipython",
    "version": 3
   },
   "file_extension": ".py",
   "mimetype": "text/x-python",
   "name": "python",
   "nbconvert_exporter": "python",
   "pygments_lexer": "ipython3",
   "version": "3.6.1"
  }
 },
 "nbformat": 4,
 "nbformat_minor": 2
}
